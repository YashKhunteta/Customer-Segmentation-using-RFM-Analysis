{
 "cells": [
  {
   "cell_type": "code",
   "execution_count": 1,
   "id": "5db731ef",
   "metadata": {},
   "outputs": [],
   "source": [
    "import pandas as pd\n",
    "import numpy as np\n",
    "import matplotlib.pyplot as plt\n",
    "import seaborn as sns\n",
    "%matplotlib inline\n",
    "\n",
    "from datetime import datetime, date\n",
    "plt.style.use('ggplot')"
   ]
  },
  {
   "cell_type": "code",
   "execution_count": 2,
   "id": "824c74bb",
   "metadata": {},
   "outputs": [],
   "source": [
    "trans = pd.read_excel('Raw_data.xlsx' , sheet_name='Transactions')"
   ]
  },
  {
   "cell_type": "code",
   "execution_count": 3,
   "id": "d5ca6305",
   "metadata": {},
   "outputs": [
    {
     "data": {
      "text/html": [
       "<div>\n",
       "<style scoped>\n",
       "    .dataframe tbody tr th:only-of-type {\n",
       "        vertical-align: middle;\n",
       "    }\n",
       "\n",
       "    .dataframe tbody tr th {\n",
       "        vertical-align: top;\n",
       "    }\n",
       "\n",
       "    .dataframe thead th {\n",
       "        text-align: right;\n",
       "    }\n",
       "</style>\n",
       "<table border=\"1\" class=\"dataframe\">\n",
       "  <thead>\n",
       "    <tr style=\"text-align: right;\">\n",
       "      <th></th>\n",
       "      <th>transaction_id</th>\n",
       "      <th>product_id</th>\n",
       "      <th>customer_id</th>\n",
       "      <th>transaction_date</th>\n",
       "      <th>online_order</th>\n",
       "      <th>order_status</th>\n",
       "      <th>brand</th>\n",
       "      <th>product_line</th>\n",
       "      <th>product_class</th>\n",
       "      <th>product_size</th>\n",
       "      <th>list_price</th>\n",
       "      <th>standard_cost</th>\n",
       "      <th>product_first_sold_date</th>\n",
       "    </tr>\n",
       "  </thead>\n",
       "  <tbody>\n",
       "    <tr>\n",
       "      <th>0</th>\n",
       "      <td>1</td>\n",
       "      <td>2</td>\n",
       "      <td>2950</td>\n",
       "      <td>2017-02-25</td>\n",
       "      <td>0.0</td>\n",
       "      <td>Approved</td>\n",
       "      <td>Solex</td>\n",
       "      <td>Standard</td>\n",
       "      <td>medium</td>\n",
       "      <td>medium</td>\n",
       "      <td>71.49</td>\n",
       "      <td>53.62</td>\n",
       "      <td>41245.0</td>\n",
       "    </tr>\n",
       "    <tr>\n",
       "      <th>1</th>\n",
       "      <td>2</td>\n",
       "      <td>3</td>\n",
       "      <td>3120</td>\n",
       "      <td>2017-05-21</td>\n",
       "      <td>1.0</td>\n",
       "      <td>Approved</td>\n",
       "      <td>Trek Bicycles</td>\n",
       "      <td>Standard</td>\n",
       "      <td>medium</td>\n",
       "      <td>large</td>\n",
       "      <td>2091.47</td>\n",
       "      <td>388.92</td>\n",
       "      <td>41701.0</td>\n",
       "    </tr>\n",
       "    <tr>\n",
       "      <th>2</th>\n",
       "      <td>3</td>\n",
       "      <td>37</td>\n",
       "      <td>402</td>\n",
       "      <td>2017-10-16</td>\n",
       "      <td>0.0</td>\n",
       "      <td>Approved</td>\n",
       "      <td>OHM Cycles</td>\n",
       "      <td>Standard</td>\n",
       "      <td>low</td>\n",
       "      <td>medium</td>\n",
       "      <td>1793.43</td>\n",
       "      <td>248.82</td>\n",
       "      <td>36361.0</td>\n",
       "    </tr>\n",
       "    <tr>\n",
       "      <th>3</th>\n",
       "      <td>4</td>\n",
       "      <td>88</td>\n",
       "      <td>3135</td>\n",
       "      <td>2017-08-31</td>\n",
       "      <td>0.0</td>\n",
       "      <td>Approved</td>\n",
       "      <td>Norco Bicycles</td>\n",
       "      <td>Standard</td>\n",
       "      <td>medium</td>\n",
       "      <td>medium</td>\n",
       "      <td>1198.46</td>\n",
       "      <td>381.10</td>\n",
       "      <td>36145.0</td>\n",
       "    </tr>\n",
       "    <tr>\n",
       "      <th>4</th>\n",
       "      <td>5</td>\n",
       "      <td>78</td>\n",
       "      <td>787</td>\n",
       "      <td>2017-10-01</td>\n",
       "      <td>1.0</td>\n",
       "      <td>Approved</td>\n",
       "      <td>Giant Bicycles</td>\n",
       "      <td>Standard</td>\n",
       "      <td>medium</td>\n",
       "      <td>large</td>\n",
       "      <td>1765.30</td>\n",
       "      <td>709.48</td>\n",
       "      <td>42226.0</td>\n",
       "    </tr>\n",
       "  </tbody>\n",
       "</table>\n",
       "</div>"
      ],
      "text/plain": [
       "   transaction_id  product_id  customer_id transaction_date  online_order  \\\n",
       "0               1           2         2950       2017-02-25           0.0   \n",
       "1               2           3         3120       2017-05-21           1.0   \n",
       "2               3          37          402       2017-10-16           0.0   \n",
       "3               4          88         3135       2017-08-31           0.0   \n",
       "4               5          78          787       2017-10-01           1.0   \n",
       "\n",
       "  order_status           brand product_line product_class product_size  \\\n",
       "0     Approved           Solex     Standard        medium       medium   \n",
       "1     Approved   Trek Bicycles     Standard        medium        large   \n",
       "2     Approved      OHM Cycles     Standard           low       medium   \n",
       "3     Approved  Norco Bicycles     Standard        medium       medium   \n",
       "4     Approved  Giant Bicycles     Standard        medium        large   \n",
       "\n",
       "   list_price  standard_cost  product_first_sold_date  \n",
       "0       71.49          53.62                  41245.0  \n",
       "1     2091.47         388.92                  41701.0  \n",
       "2     1793.43         248.82                  36361.0  \n",
       "3     1198.46         381.10                  36145.0  \n",
       "4     1765.30         709.48                  42226.0  "
      ]
     },
     "execution_count": 3,
     "metadata": {},
     "output_type": "execute_result"
    }
   ],
   "source": [
    "trans.head()"
   ]
  },
  {
   "cell_type": "code",
   "execution_count": 5,
   "id": "4f3ea872",
   "metadata": {},
   "outputs": [
    {
     "name": "stdout",
     "output_type": "stream",
     "text": [
      "<class 'pandas.core.frame.DataFrame'>\n",
      "RangeIndex: 20000 entries, 0 to 19999\n",
      "Data columns (total 13 columns):\n",
      " #   Column                   Non-Null Count  Dtype         \n",
      "---  ------                   --------------  -----         \n",
      " 0   transaction_id           20000 non-null  int64         \n",
      " 1   product_id               20000 non-null  int64         \n",
      " 2   customer_id              20000 non-null  int64         \n",
      " 3   transaction_date         20000 non-null  datetime64[ns]\n",
      " 4   online_order             19640 non-null  float64       \n",
      " 5   order_status             20000 non-null  object        \n",
      " 6   brand                    19803 non-null  object        \n",
      " 7   product_line             19803 non-null  object        \n",
      " 8   product_class            19803 non-null  object        \n",
      " 9   product_size             19803 non-null  object        \n",
      " 10  list_price               20000 non-null  float64       \n",
      " 11  standard_cost            19803 non-null  float64       \n",
      " 12  product_first_sold_date  19803 non-null  float64       \n",
      "dtypes: datetime64[ns](1), float64(4), int64(3), object(5)\n",
      "memory usage: 2.0+ MB\n"
     ]
    }
   ],
   "source": [
    "trans.info()"
   ]
  },
  {
   "cell_type": "markdown",
   "id": "0e43d449",
   "metadata": {},
   "source": [
    "**Datatype of product_first_sold_date column is not in datetime format. The data type of this column must be changed from int64 to datetime format.**"
   ]
  },
  {
   "cell_type": "markdown",
   "id": "2ad7b98b",
   "metadata": {},
   "source": [
    "# Total Records"
   ]
  },
  {
   "cell_type": "code",
   "execution_count": 6,
   "id": "9c4b91fc",
   "metadata": {},
   "outputs": [
    {
     "name": "stdout",
     "output_type": "stream",
     "text": [
      "Total records (rows) in the dataset : 20000\n",
      "Total columns (features) in the dataset : 13\n"
     ]
    }
   ],
   "source": [
    "print(\"Total records (rows) in the dataset : {}\".format(trans.shape[0]))\n",
    "print(\"Total columns (features) in the dataset : {}\".format(trans.shape[1]))"
   ]
  },
  {
   "cell_type": "markdown",
   "id": "bda5f7b7",
   "metadata": {},
   "source": [
    "# Numeric Columns and Non-Numeric Columns"
   ]
  },
  {
   "cell_type": "code",
   "execution_count": 7,
   "id": "66e4bb41",
   "metadata": {},
   "outputs": [
    {
     "name": "stdout",
     "output_type": "stream",
     "text": [
      "The numeric columns are\n",
      "['transaction_id' 'product_id' 'customer_id' 'online_order' 'list_price'\n",
      " 'standard_cost' 'product_first_sold_date']\n",
      "The non-numeric columns are\n",
      "['transaction_date' 'order_status' 'brand' 'product_line' 'product_class'\n",
      " 'product_size']\n"
     ]
    }
   ],
   "source": [
    "#select numeric columns\n",
    "df_numeric = trans.select_dtypes(include=[np.number])\n",
    "numeric_cols = df_numeric.columns.values\n",
    "print(\"The numeric columns are\")\n",
    "print(numeric_cols)\n",
    "\n",
    "#select non-numeric columns\n",
    "df_non_numeric = trans.select_dtypes(exclude=[np.number])\n",
    "non_numeric_cols = df_non_numeric.columns.values\n",
    "print(\"The non-numeric columns are\")\n",
    "print(non_numeric_cols)"
   ]
  },
  {
   "cell_type": "markdown",
   "id": "5f7d0260",
   "metadata": {},
   "source": [
    "# 1. Missing values check"
   ]
  },
  {
   "cell_type": "code",
   "execution_count": 8,
   "id": "bbf1390e",
   "metadata": {},
   "outputs": [
    {
     "data": {
      "text/plain": [
       "transaction_id               0\n",
       "product_id                   0\n",
       "customer_id                  0\n",
       "transaction_date             0\n",
       "online_order               360\n",
       "order_status                 0\n",
       "brand                      197\n",
       "product_line               197\n",
       "product_class              197\n",
       "product_size               197\n",
       "list_price                   0\n",
       "standard_cost              197\n",
       "product_first_sold_date    197\n",
       "dtype: int64"
      ]
     },
     "execution_count": 8,
     "metadata": {},
     "output_type": "execute_result"
    }
   ],
   "source": [
    "trans.isnull().sum()"
   ]
  },
  {
   "cell_type": "code",
   "execution_count": 9,
   "id": "10be9bff",
   "metadata": {},
   "outputs": [
    {
     "data": {
      "text/plain": [
       "transaction_id             0.000\n",
       "product_id                 0.000\n",
       "customer_id                0.000\n",
       "transaction_date           0.000\n",
       "online_order               1.800\n",
       "order_status               0.000\n",
       "brand                      0.985\n",
       "product_line               0.985\n",
       "product_class              0.985\n",
       "product_size               0.985\n",
       "list_price                 0.000\n",
       "standard_cost              0.985\n",
       "product_first_sold_date    0.985\n",
       "dtype: float64"
      ]
     },
     "execution_count": 9,
     "metadata": {},
     "output_type": "execute_result"
    }
   ],
   "source": [
    "# percentage of missing values\n",
    "trans.isnull().mean()*100"
   ]
  },
  {
   "cell_type": "markdown",
   "id": "4868efb7",
   "metadata": {},
   "source": [
    "Here it is observed that columns like **online_order, brand, product_line, product_class , product_size, standard_cost, product_first_sold_date** have missing values"
   ]
  },
  {
   "cell_type": "markdown",
   "id": "a5dce8a2",
   "metadata": {},
   "source": [
    "## 1.1 Online Order"
   ]
  },
  {
   "cell_type": "code",
   "execution_count": 10,
   "id": "4f80067f",
   "metadata": {},
   "outputs": [
    {
     "data": {
      "text/html": [
       "<div>\n",
       "<style scoped>\n",
       "    .dataframe tbody tr th:only-of-type {\n",
       "        vertical-align: middle;\n",
       "    }\n",
       "\n",
       "    .dataframe tbody tr th {\n",
       "        vertical-align: top;\n",
       "    }\n",
       "\n",
       "    .dataframe thead th {\n",
       "        text-align: right;\n",
       "    }\n",
       "</style>\n",
       "<table border=\"1\" class=\"dataframe\">\n",
       "  <thead>\n",
       "    <tr style=\"text-align: right;\">\n",
       "      <th></th>\n",
       "      <th>transaction_id</th>\n",
       "      <th>product_id</th>\n",
       "      <th>customer_id</th>\n",
       "      <th>transaction_date</th>\n",
       "      <th>online_order</th>\n",
       "      <th>order_status</th>\n",
       "      <th>brand</th>\n",
       "      <th>product_line</th>\n",
       "      <th>product_class</th>\n",
       "      <th>product_size</th>\n",
       "      <th>list_price</th>\n",
       "      <th>standard_cost</th>\n",
       "      <th>product_first_sold_date</th>\n",
       "    </tr>\n",
       "  </thead>\n",
       "  <tbody>\n",
       "    <tr>\n",
       "      <th>97</th>\n",
       "      <td>98</td>\n",
       "      <td>49</td>\n",
       "      <td>333</td>\n",
       "      <td>2017-06-23</td>\n",
       "      <td>NaN</td>\n",
       "      <td>Approved</td>\n",
       "      <td>Trek Bicycles</td>\n",
       "      <td>Road</td>\n",
       "      <td>medium</td>\n",
       "      <td>medium</td>\n",
       "      <td>533.51</td>\n",
       "      <td>400.13</td>\n",
       "      <td>37823.0</td>\n",
       "    </tr>\n",
       "    <tr>\n",
       "      <th>166</th>\n",
       "      <td>167</td>\n",
       "      <td>90</td>\n",
       "      <td>3177</td>\n",
       "      <td>2017-04-26</td>\n",
       "      <td>NaN</td>\n",
       "      <td>Approved</td>\n",
       "      <td>Norco Bicycles</td>\n",
       "      <td>Standard</td>\n",
       "      <td>low</td>\n",
       "      <td>medium</td>\n",
       "      <td>363.01</td>\n",
       "      <td>290.41</td>\n",
       "      <td>38482.0</td>\n",
       "    </tr>\n",
       "    <tr>\n",
       "      <th>169</th>\n",
       "      <td>170</td>\n",
       "      <td>6</td>\n",
       "      <td>404</td>\n",
       "      <td>2017-10-16</td>\n",
       "      <td>NaN</td>\n",
       "      <td>Approved</td>\n",
       "      <td>OHM Cycles</td>\n",
       "      <td>Standard</td>\n",
       "      <td>high</td>\n",
       "      <td>medium</td>\n",
       "      <td>227.88</td>\n",
       "      <td>136.73</td>\n",
       "      <td>37838.0</td>\n",
       "    </tr>\n",
       "    <tr>\n",
       "      <th>250</th>\n",
       "      <td>251</td>\n",
       "      <td>63</td>\n",
       "      <td>1967</td>\n",
       "      <td>2017-04-11</td>\n",
       "      <td>NaN</td>\n",
       "      <td>Approved</td>\n",
       "      <td>Solex</td>\n",
       "      <td>Standard</td>\n",
       "      <td>medium</td>\n",
       "      <td>medium</td>\n",
       "      <td>1483.20</td>\n",
       "      <td>99.59</td>\n",
       "      <td>42145.0</td>\n",
       "    </tr>\n",
       "    <tr>\n",
       "      <th>300</th>\n",
       "      <td>301</td>\n",
       "      <td>78</td>\n",
       "      <td>2530</td>\n",
       "      <td>2017-03-24</td>\n",
       "      <td>NaN</td>\n",
       "      <td>Approved</td>\n",
       "      <td>Giant Bicycles</td>\n",
       "      <td>Standard</td>\n",
       "      <td>medium</td>\n",
       "      <td>large</td>\n",
       "      <td>1765.30</td>\n",
       "      <td>709.48</td>\n",
       "      <td>35455.0</td>\n",
       "    </tr>\n",
       "    <tr>\n",
       "      <th>...</th>\n",
       "      <td>...</td>\n",
       "      <td>...</td>\n",
       "      <td>...</td>\n",
       "      <td>...</td>\n",
       "      <td>...</td>\n",
       "      <td>...</td>\n",
       "      <td>...</td>\n",
       "      <td>...</td>\n",
       "      <td>...</td>\n",
       "      <td>...</td>\n",
       "      <td>...</td>\n",
       "      <td>...</td>\n",
       "      <td>...</td>\n",
       "    </tr>\n",
       "    <tr>\n",
       "      <th>19514</th>\n",
       "      <td>19515</td>\n",
       "      <td>51</td>\n",
       "      <td>690</td>\n",
       "      <td>2017-01-22</td>\n",
       "      <td>NaN</td>\n",
       "      <td>Approved</td>\n",
       "      <td>OHM Cycles</td>\n",
       "      <td>Standard</td>\n",
       "      <td>high</td>\n",
       "      <td>medium</td>\n",
       "      <td>2005.66</td>\n",
       "      <td>1203.40</td>\n",
       "      <td>37823.0</td>\n",
       "    </tr>\n",
       "    <tr>\n",
       "      <th>19573</th>\n",
       "      <td>19574</td>\n",
       "      <td>18</td>\n",
       "      <td>1735</td>\n",
       "      <td>2017-01-15</td>\n",
       "      <td>NaN</td>\n",
       "      <td>Approved</td>\n",
       "      <td>Solex</td>\n",
       "      <td>Standard</td>\n",
       "      <td>medium</td>\n",
       "      <td>medium</td>\n",
       "      <td>575.27</td>\n",
       "      <td>431.45</td>\n",
       "      <td>41345.0</td>\n",
       "    </tr>\n",
       "    <tr>\n",
       "      <th>19580</th>\n",
       "      <td>19581</td>\n",
       "      <td>49</td>\n",
       "      <td>1933</td>\n",
       "      <td>2017-10-12</td>\n",
       "      <td>NaN</td>\n",
       "      <td>Approved</td>\n",
       "      <td>Trek Bicycles</td>\n",
       "      <td>Road</td>\n",
       "      <td>medium</td>\n",
       "      <td>medium</td>\n",
       "      <td>533.51</td>\n",
       "      <td>400.13</td>\n",
       "      <td>41064.0</td>\n",
       "    </tr>\n",
       "    <tr>\n",
       "      <th>19635</th>\n",
       "      <td>19636</td>\n",
       "      <td>98</td>\n",
       "      <td>1389</td>\n",
       "      <td>2017-07-26</td>\n",
       "      <td>NaN</td>\n",
       "      <td>Approved</td>\n",
       "      <td>Trek Bicycles</td>\n",
       "      <td>Standard</td>\n",
       "      <td>high</td>\n",
       "      <td>medium</td>\n",
       "      <td>358.39</td>\n",
       "      <td>215.03</td>\n",
       "      <td>38002.0</td>\n",
       "    </tr>\n",
       "    <tr>\n",
       "      <th>19843</th>\n",
       "      <td>19844</td>\n",
       "      <td>3</td>\n",
       "      <td>8</td>\n",
       "      <td>2017-01-28</td>\n",
       "      <td>NaN</td>\n",
       "      <td>Approved</td>\n",
       "      <td>Trek Bicycles</td>\n",
       "      <td>Standard</td>\n",
       "      <td>medium</td>\n",
       "      <td>large</td>\n",
       "      <td>2091.47</td>\n",
       "      <td>388.92</td>\n",
       "      <td>37823.0</td>\n",
       "    </tr>\n",
       "  </tbody>\n",
       "</table>\n",
       "<p>360 rows × 13 columns</p>\n",
       "</div>"
      ],
      "text/plain": [
       "       transaction_id  product_id  customer_id transaction_date  online_order  \\\n",
       "97                 98          49          333       2017-06-23           NaN   \n",
       "166               167          90         3177       2017-04-26           NaN   \n",
       "169               170           6          404       2017-10-16           NaN   \n",
       "250               251          63         1967       2017-04-11           NaN   \n",
       "300               301          78         2530       2017-03-24           NaN   \n",
       "...               ...         ...          ...              ...           ...   \n",
       "19514           19515          51          690       2017-01-22           NaN   \n",
       "19573           19574          18         1735       2017-01-15           NaN   \n",
       "19580           19581          49         1933       2017-10-12           NaN   \n",
       "19635           19636          98         1389       2017-07-26           NaN   \n",
       "19843           19844           3            8       2017-01-28           NaN   \n",
       "\n",
       "      order_status           brand product_line product_class product_size  \\\n",
       "97        Approved   Trek Bicycles         Road        medium       medium   \n",
       "166       Approved  Norco Bicycles     Standard           low       medium   \n",
       "169       Approved      OHM Cycles     Standard          high       medium   \n",
       "250       Approved           Solex     Standard        medium       medium   \n",
       "300       Approved  Giant Bicycles     Standard        medium        large   \n",
       "...            ...             ...          ...           ...          ...   \n",
       "19514     Approved      OHM Cycles     Standard          high       medium   \n",
       "19573     Approved           Solex     Standard        medium       medium   \n",
       "19580     Approved   Trek Bicycles         Road        medium       medium   \n",
       "19635     Approved   Trek Bicycles     Standard          high       medium   \n",
       "19843     Approved   Trek Bicycles     Standard        medium        large   \n",
       "\n",
       "       list_price  standard_cost  product_first_sold_date  \n",
       "97         533.51         400.13                  37823.0  \n",
       "166        363.01         290.41                  38482.0  \n",
       "169        227.88         136.73                  37838.0  \n",
       "250       1483.20          99.59                  42145.0  \n",
       "300       1765.30         709.48                  35455.0  \n",
       "...           ...            ...                      ...  \n",
       "19514     2005.66        1203.40                  37823.0  \n",
       "19573      575.27         431.45                  41345.0  \n",
       "19580      533.51         400.13                  41064.0  \n",
       "19635      358.39         215.03                  38002.0  \n",
       "19843     2091.47         388.92                  37823.0  \n",
       "\n",
       "[360 rows x 13 columns]"
      ]
     },
     "execution_count": 10,
     "metadata": {},
     "output_type": "execute_result"
    }
   ],
   "source": [
    "trans[trans['online_order'].isnull()]"
   ]
  },
  {
   "cell_type": "code",
   "execution_count": 11,
   "id": "42e82f7c",
   "metadata": {},
   "outputs": [
    {
     "data": {
      "text/plain": [
       "0    1.0\n",
       "Name: online_order, dtype: float64"
      ]
     },
     "execution_count": 11,
     "metadata": {},
     "output_type": "execute_result"
    }
   ],
   "source": [
    "most_freq_online_mode = trans['online_order'].mode()\n",
    "most_freq_online_mode"
   ]
  },
  {
   "cell_type": "markdown",
   "id": "a3a0e17e",
   "metadata": {},
   "source": [
    "**Since 1 is the most frequent value of Online Order. We will do a mode imputation on this categorial value.**"
   ]
  },
  {
   "cell_type": "code",
   "execution_count": 12,
   "id": "750af40c",
   "metadata": {},
   "outputs": [],
   "source": [
    "trans['online_order'].fillna(1, inplace=True)"
   ]
  },
  {
   "cell_type": "code",
   "execution_count": 13,
   "id": "cb9b9bfa",
   "metadata": {},
   "outputs": [
    {
     "data": {
      "text/plain": [
       "0"
      ]
     },
     "execution_count": 13,
     "metadata": {},
     "output_type": "execute_result"
    }
   ],
   "source": [
    "trans['online_order'].isnull().sum()"
   ]
  },
  {
   "cell_type": "markdown",
   "id": "f0286057",
   "metadata": {},
   "source": [
    "## 1.2 Brand, Product Line, Product Class, Product Size, Standard Cost, Product First Sold Date\n",
    "\n",
    "It is observed that when brand is null then all other column values with missing are also null.\n",
    "**Also these are very less in datset so we can drop them.**"
   ]
  },
  {
   "cell_type": "code",
   "execution_count": 14,
   "id": "3c4f42d6",
   "metadata": {},
   "outputs": [
    {
     "data": {
      "text/html": [
       "<div>\n",
       "<style scoped>\n",
       "    .dataframe tbody tr th:only-of-type {\n",
       "        vertical-align: middle;\n",
       "    }\n",
       "\n",
       "    .dataframe tbody tr th {\n",
       "        vertical-align: top;\n",
       "    }\n",
       "\n",
       "    .dataframe thead th {\n",
       "        text-align: right;\n",
       "    }\n",
       "</style>\n",
       "<table border=\"1\" class=\"dataframe\">\n",
       "  <thead>\n",
       "    <tr style=\"text-align: right;\">\n",
       "      <th></th>\n",
       "      <th>brand</th>\n",
       "      <th>product_line</th>\n",
       "      <th>product_class</th>\n",
       "      <th>product_size</th>\n",
       "      <th>standard_cost</th>\n",
       "      <th>product_first_sold_date</th>\n",
       "    </tr>\n",
       "  </thead>\n",
       "  <tbody>\n",
       "    <tr>\n",
       "      <th>136</th>\n",
       "      <td>NaN</td>\n",
       "      <td>NaN</td>\n",
       "      <td>NaN</td>\n",
       "      <td>NaN</td>\n",
       "      <td>NaN</td>\n",
       "      <td>NaN</td>\n",
       "    </tr>\n",
       "  </tbody>\n",
       "</table>\n",
       "</div>"
      ],
      "text/plain": [
       "    brand product_line product_class product_size  standard_cost  \\\n",
       "136   NaN          NaN           NaN          NaN            NaN   \n",
       "\n",
       "     product_first_sold_date  \n",
       "136                      NaN  "
      ]
     },
     "execution_count": 14,
     "metadata": {},
     "output_type": "execute_result"
    }
   ],
   "source": [
    "trans[trans['brand'].isnull()][['brand', 'product_line', 'product_class', 'product_size', \n",
    "                                'standard_cost', 'product_first_sold_date']].drop_duplicates()"
   ]
  },
  {
   "cell_type": "code",
   "execution_count": 15,
   "id": "9b862b09",
   "metadata": {},
   "outputs": [
    {
     "data": {
      "text/plain": [
       "197"
      ]
     },
     "execution_count": 15,
     "metadata": {},
     "output_type": "execute_result"
    }
   ],
   "source": [
    "trans[trans['brand'].isnull()][['brand', 'product_line', 'product_class', 'product_size', \n",
    "                                'standard_cost', 'product_first_sold_date']].shape[0]"
   ]
  },
  {
   "cell_type": "code",
   "execution_count": 16,
   "id": "a9db399d",
   "metadata": {},
   "outputs": [
    {
     "data": {
      "text/plain": [
       "Int64Index([  136,   159,   366,   406,   676,   780,  1003,  1130,  1196,\n",
       "             1282,\n",
       "            ...\n",
       "            19045, 19132, 19176, 19196, 19205, 19340, 19383, 19793, 19859,\n",
       "            19871],\n",
       "           dtype='int64', length=197)"
      ]
     },
     "execution_count": 16,
     "metadata": {},
     "output_type": "execute_result"
    }
   ],
   "source": [
    "records_to_drop = trans[trans['brand'].isnull()][['brand', 'product_line', 'product_class', 'product_size', \n",
    "                                'standard_cost', 'product_first_sold_date']].index\n",
    "records_to_drop"
   ]
  },
  {
   "cell_type": "code",
   "execution_count": 17,
   "id": "9dfed8ba",
   "metadata": {},
   "outputs": [],
   "source": [
    "trans.drop(index=records_to_drop, axis=0, inplace=True)"
   ]
  },
  {
   "cell_type": "markdown",
   "id": "56e9dd31",
   "metadata": {},
   "source": [
    "**Now there are no Missing Values in transaction dataset.**"
   ]
  },
  {
   "cell_type": "code",
   "execution_count": 18,
   "id": "35ed786b",
   "metadata": {},
   "outputs": [
    {
     "data": {
      "text/plain": [
       "transaction_id             0\n",
       "product_id                 0\n",
       "customer_id                0\n",
       "transaction_date           0\n",
       "online_order               0\n",
       "order_status               0\n",
       "brand                      0\n",
       "product_line               0\n",
       "product_class              0\n",
       "product_size               0\n",
       "list_price                 0\n",
       "standard_cost              0\n",
       "product_first_sold_date    0\n",
       "dtype: int64"
      ]
     },
     "execution_count": 18,
     "metadata": {},
     "output_type": "execute_result"
    }
   ],
   "source": [
    "trans.isnull().sum()"
   ]
  },
  {
   "cell_type": "code",
   "execution_count": 19,
   "id": "64e559b7",
   "metadata": {},
   "outputs": [
    {
     "name": "stdout",
     "output_type": "stream",
     "text": [
      "Total records after removing Missing Values: 19803\n"
     ]
    }
   ],
   "source": [
    "print(\"Total records after removing Missing Values: {}\".format(trans.shape[0]))"
   ]
  },
  {
   "cell_type": "markdown",
   "id": "ca0127af",
   "metadata": {},
   "source": [
    "#  2. Creating a new feature \"Profit\"\n",
    "\n",
    "**The Profit column will be difference between list price and standard price of a product.**"
   ]
  },
  {
   "cell_type": "code",
   "execution_count": 21,
   "id": "727cd139",
   "metadata": {},
   "outputs": [],
   "source": [
    "trans['Profit'] = trans['list_price']*trans['standard_cost']"
   ]
  },
  {
   "cell_type": "code",
   "execution_count": 22,
   "id": "52305817",
   "metadata": {},
   "outputs": [
    {
     "name": "stderr",
     "output_type": "stream",
     "text": [
      "C:\\Users\\abc\\anaconda3\\lib\\site-packages\\seaborn\\distributions.py:2619: FutureWarning: `distplot` is a deprecated function and will be removed in a future version. Please adapt your code to use either `displot` (a figure-level function with similar flexibility) or `histplot` (an axes-level function for histograms).\n",
      "  warnings.warn(msg, FutureWarning)\n"
     ]
    },
    {
     "data": {
      "text/plain": [
       "<AxesSubplot:xlabel='Profit', ylabel='Density'>"
      ]
     },
     "execution_count": 22,
     "metadata": {},
     "output_type": "execute_result"
    },
    {
     "data": {
      "image/png": "[encoded data removed]",
      "text/plain": [
       "<Figure size 2000x800 with 1 Axes>"
      ]
     },
     "metadata": {},
     "output_type": "display_data"
    }
   ],
   "source": [
    "plt.figure(figsize=(20,8))\n",
    "sns.distplot(trans['Profit'])"
   ]
  },
  {
   "cell_type": "markdown",
   "id": "912e4034",
   "metadata": {},
   "source": [
    "# 3. Inconsistency Check in Data\n",
    "\n",
    "We check whether there is inconsistent data / typo error data is present in the categorial columns.\n",
    "\n",
    "The columns to be checked are **'online_order', 'order_status' ,'product_line', 'product_class' , 'product_class' and 'brand'**"
   ]
  },
  {
   "cell_type": "markdown",
   "id": "d9c77b5b",
   "metadata": {},
   "source": [
    "## 3.1 Online Order"
   ]
  },
  {
   "cell_type": "code",
   "execution_count": 24,
   "id": "55fc1355",
   "metadata": {},
   "outputs": [
    {
     "data": {
      "text/plain": [
       "1.0    10097\n",
       "0.0     9706\n",
       "Name: online_order, dtype: int64"
      ]
     },
     "execution_count": 24,
     "metadata": {},
     "output_type": "execute_result"
    }
   ],
   "source": [
    "trans['online_order'].value_counts()"
   ]
  },
  {
   "cell_type": "markdown",
   "id": "0f899531",
   "metadata": {},
   "source": [
    "## 3.2 Order Status"
   ]
  },
  {
   "cell_type": "code",
   "execution_count": 25,
   "id": "1e34076d",
   "metadata": {},
   "outputs": [
    {
     "data": {
      "text/plain": [
       "Approved     19625\n",
       "Cancelled      178\n",
       "Name: order_status, dtype: int64"
      ]
     },
     "execution_count": 25,
     "metadata": {},
     "output_type": "execute_result"
    }
   ],
   "source": [
    "trans['order_status'].value_counts()"
   ]
  },
  {
   "cell_type": "code",
   "execution_count": 26,
   "id": "1bf6ab86",
   "metadata": {},
   "outputs": [
    {
     "data": {
      "text/html": [
       "<div>\n",
       "<style scoped>\n",
       "    .dataframe tbody tr th:only-of-type {\n",
       "        vertical-align: middle;\n",
       "    }\n",
       "\n",
       "    .dataframe tbody tr th {\n",
       "        vertical-align: top;\n",
       "    }\n",
       "\n",
       "    .dataframe thead th {\n",
       "        text-align: right;\n",
       "    }\n",
       "</style>\n",
       "<table border=\"1\" class=\"dataframe\">\n",
       "  <thead>\n",
       "    <tr style=\"text-align: right;\">\n",
       "      <th></th>\n",
       "      <th>order_status</th>\n",
       "      <th>online_order</th>\n",
       "    </tr>\n",
       "  </thead>\n",
       "  <tbody>\n",
       "    <tr>\n",
       "      <th>0</th>\n",
       "      <td>Approved</td>\n",
       "      <td>0.0</td>\n",
       "    </tr>\n",
       "    <tr>\n",
       "      <th>1</th>\n",
       "      <td>Approved</td>\n",
       "      <td>1.0</td>\n",
       "    </tr>\n",
       "    <tr>\n",
       "      <th>42</th>\n",
       "      <td>Cancelled</td>\n",
       "      <td>0.0</td>\n",
       "    </tr>\n",
       "    <tr>\n",
       "      <th>254</th>\n",
       "      <td>Cancelled</td>\n",
       "      <td>1.0</td>\n",
       "    </tr>\n",
       "  </tbody>\n",
       "</table>\n",
       "</div>"
      ],
      "text/plain": [
       "    order_status  online_order\n",
       "0       Approved           0.0\n",
       "1       Approved           1.0\n",
       "42     Cancelled           0.0\n",
       "254    Cancelled           1.0"
      ]
     },
     "execution_count": 26,
     "metadata": {},
     "output_type": "execute_result"
    }
   ],
   "source": [
    "trans[['order_status', 'online_order']].drop_duplicates()"
   ]
  },
  {
   "cell_type": "markdown",
   "id": "acce871f",
   "metadata": {},
   "source": [
    "## 3.3 Product Line"
   ]
  },
  {
   "cell_type": "code",
   "execution_count": 27,
   "id": "6cad51c6",
   "metadata": {},
   "outputs": [
    {
     "data": {
      "text/plain": [
       "Standard    14176\n",
       "Road         3970\n",
       "Touring      1234\n",
       "Mountain      423\n",
       "Name: product_line, dtype: int64"
      ]
     },
     "execution_count": 27,
     "metadata": {},
     "output_type": "execute_result"
    }
   ],
   "source": [
    "trans['product_line'].value_counts()"
   ]
  },
  {
   "cell_type": "markdown",
   "id": "da222f8c",
   "metadata": {},
   "source": [
    "## 3.4 Product Class"
   ]
  },
  {
   "cell_type": "code",
   "execution_count": 28,
   "id": "3e0a31e4",
   "metadata": {},
   "outputs": [
    {
     "data": {
      "text/plain": [
       "medium    13826\n",
       "high       3013\n",
       "low        2964\n",
       "Name: product_class, dtype: int64"
      ]
     },
     "execution_count": 28,
     "metadata": {},
     "output_type": "execute_result"
    }
   ],
   "source": [
    "trans['product_class'].value_counts()"
   ]
  },
  {
   "cell_type": "markdown",
   "id": "afa9e185",
   "metadata": {},
   "source": [
    "## 3.5 Product Size"
   ]
  },
  {
   "cell_type": "code",
   "execution_count": 29,
   "id": "1e4c1488",
   "metadata": {},
   "outputs": [
    {
     "data": {
      "text/plain": [
       "medium    12990\n",
       "large      3976\n",
       "small      2837\n",
       "Name: product_size, dtype: int64"
      ]
     },
     "execution_count": 29,
     "metadata": {},
     "output_type": "execute_result"
    }
   ],
   "source": [
    "trans['product_size'].value_counts()"
   ]
  },
  {
   "cell_type": "markdown",
   "id": "ee868c3f",
   "metadata": {},
   "source": [
    "## 3.6 Brand"
   ]
  },
  {
   "cell_type": "code",
   "execution_count": 31,
   "id": "c5691d8c",
   "metadata": {},
   "outputs": [
    {
     "data": {
      "text/plain": [
       "Solex             4253\n",
       "Giant Bicycles    3312\n",
       "WeareA2B          3295\n",
       "OHM Cycles        3043\n",
       "Trek Bicycles     2990\n",
       "Norco Bicycles    2910\n",
       "Name: brand, dtype: int64"
      ]
     },
     "execution_count": 31,
     "metadata": {},
     "output_type": "execute_result"
    }
   ],
   "source": [
    "trans['brand'].value_counts()"
   ]
  },
  {
   "cell_type": "markdown",
   "id": "f124075d",
   "metadata": {},
   "source": [
    "# 4. Duplications Checks\n",
    "\n",
    "We need to check if there are duplicate records in dataset. This may lead to error in data analysis, we need to drop such records.\n",
    "\n",
    "First we remove the primary key column then apply drop_duplicates() function in Python."
   ]
  },
  {
   "cell_type": "code",
   "execution_count": 32,
   "id": "35287104",
   "metadata": {},
   "outputs": [
    {
     "name": "stdout",
     "output_type": "stream",
     "text": [
      "Number of records after removing customer_id (pk), duplicates : 19803\n",
      "Number of records in original dataset : 19803\n"
     ]
    }
   ],
   "source": [
    "trans_dedupped = trans.drop('transaction_id', axis=1).drop_duplicates()\n",
    "\n",
    "print(\"Number of records after removing customer_id (pk), duplicates : {}\".format(trans_dedupped.shape[0]))\n",
    "print(\"Number of records in original dataset : {}\".format(trans.shape[0]))"
   ]
  },
  {
   "cell_type": "markdown",
   "id": "c36096c1",
   "metadata": {},
   "source": [
    "**Since both the numbers are same there are no duplicate records.**"
   ]
  },
  {
   "cell_type": "markdown",
   "id": "db58de1d",
   "metadata": {},
   "source": [
    "# 5. Exporting the Cleaned Transactions Dataset to csv\n",
    "\n",
    "CUrrently the dataset is clean. Hence we can export the data to csv to continue our data analysis by joining other tables."
   ]
  },
  {
   "cell_type": "code",
   "execution_count": 34,
   "id": "1ddb0905",
   "metadata": {},
   "outputs": [],
   "source": [
    "trans.to_csv('Transactions_Cleaned.csv', index=False)"
   ]
  }
 ],
 "metadata": {
  "kernelspec": {
   "display_name": "Python 3 (ipykernel)",
   "language": "python",
   "name": "python3"
  },
  "language_info": {
   "codemirror_mode": {
    "name": "ipython",
    "version": 3
   },
   "file_extension": ".py",
   "mimetype": "text/x-python",
   "name": "python",
   "nbconvert_exporter": "python",
   "pygments_lexer": "ipython3",
   "version": "3.9.13"
  }
 },
 "nbformat": 4,
 "nbformat_minor": 5
}
